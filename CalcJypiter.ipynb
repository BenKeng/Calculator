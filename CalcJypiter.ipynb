{
 "cells": [
  {
   "cell_type": "code",
   "execution_count": null,
   "id": "08d21526-0cca-4ef4-9c9f-b044bcca6c3f",
   "metadata": {},
   "outputs": [],
   "source": [
    "print('Calculator ready for input!')\n",
    "str1=input('Enter first number: ')\n",
    "try:\n",
    "    num1=int(str1)\n",
    "except:\n",
    "    print('Invalid input')"
   ]
  },
  {
   "cell_type": "markdown",
   "id": "6f3a7dab-c6f9-4677-a7bc-8a6dbeb60089",
   "metadata": {},
   "source": [
    "*Asks the user to input his first number, if user types in anything that is not an int, the code returns 'invalid input'"
   ]
  },
  {
   "cell_type": "code",
   "execution_count": null,
   "id": "3d70c07d-6666-4d1c-9e43-987fa19e323c",
   "metadata": {},
   "outputs": [],
   "source": [
    "action=input('Enter action (+, -, *, /): ')\n",
    "if action not in ['+', '-', '*', '/']:\n",
    "    print('Invalid input')"
   ]
  },
  {
   "cell_type": "markdown",
   "id": "356b5e45-ee9f-40e1-ae5e-11e7abe9b000",
   "metadata": {},
   "source": [
    "*Asks user to input the type of calculation, anything but these 4 signs will return 'invalid input'"
   ]
  },
  {
   "cell_type": "code",
   "execution_count": null,
   "id": "1e7735ba-25f8-4c6c-9b9c-cfbbbfd55b81",
   "metadata": {},
   "outputs": [],
   "source": [
    "str2=input('Enter second number: ')\n",
    "try:\n",
    "    num2=int(str2)\n",
    "except:\n",
    "    print('Invalid input')"
   ]
  },
  {
   "cell_type": "markdown",
   "id": "5f5ca58e-066c-4a78-b0f5-48779d7e5ca9",
   "metadata": {},
   "source": [
    "*Asks the user to input his first number, if user types in anything that is not an int, the code returns 'invalid input'"
   ]
  },
  {
   "cell_type": "code",
   "execution_count": null,
   "id": "f61451ec-c43d-4137-b37f-7618c6d1cea7",
   "metadata": {},
   "outputs": [],
   "source": [
    "if action == '+':\n",
    "    print(num1 + num2)\n",
    "elif action == '-':\n",
    "    print(num1 - num2)"
   ]
  },
  {
   "cell_type": "markdown",
   "id": "6bdd7d25-bd86-40ee-b517-17edaf1cd990",
   "metadata": {},
   "source": [
    "*Depending on what action the user chose the code will compare the signs and decide what calculation to preform"
   ]
  },
  {
   "cell_type": "code",
   "execution_count": null,
   "id": "7f7607c3-e463-4ea6-8476-af05ead67f11",
   "metadata": {},
   "outputs": [],
   "source": [
    "elif action == '*':\n",
    "    print(num1 * num2)\n",
    "elif action == '/':\n",
    "    if num2 == 0:\n",
    "        print('Division by zero is not possible')\n",
    "    else:\n",
    "        print(num1 / num2)"
   ]
  },
  {
   "cell_type": "markdown",
   "id": "82f54ab4-16bf-473c-88ef-4586871ed64e",
   "metadata": {},
   "source": [
    "*Depending on what action the user chose the code will compare the signs and decide what calculation to preform, with the exception being that if the user chose division ('/') and 'num2' is 0 the code will return 'Division by zero is not possible'."
   ]
  }
 ],
 "metadata": {
  "kernelspec": {
   "display_name": "Python 3 (ipykernel)",
   "language": "python",
   "name": "python3"
  },
  "language_info": {
   "codemirror_mode": {
    "name": "ipython",
    "version": 3
   },
   "file_extension": ".py",
   "mimetype": "text/x-python",
   "name": "python",
   "nbconvert_exporter": "python",
   "pygments_lexer": "ipython3",
   "version": "3.12.1"
  }
 },
 "nbformat": 4,
 "nbformat_minor": 5
}
